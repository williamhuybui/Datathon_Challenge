{
 "cells": [
  {
   "cell_type": "code",
   "execution_count": 2,
   "metadata": {},
   "outputs": [],
   "source": [
    "import numpy as np\n",
    "import pandas as pd\n",
    "import gc "
   ]
  },
  {
   "cell_type": "code",
   "execution_count": 3,
   "metadata": {},
   "outputs": [
    {
     "name": "stdout",
     "output_type": "stream",
     "text": [
      "ls: fb_datathon_dataset/ml_preds_csv: No such file or directory\r\n"
     ]
    }
   ],
   "source": [
    "!ls fb_datathon_dataset/ml_preds_csv "
   ]
  },
  {
   "cell_type": "code",
   "execution_count": 4,
   "metadata": {},
   "outputs": [
    {
     "name": "stdout",
     "output_type": "stream",
     "text": [
      "ls: fb_datathon_dataset/: No such file or directory\r\n"
     ]
    }
   ],
   "source": [
    "!ls fb_datathon_dataset/"
   ]
  },
  {
   "cell_type": "markdown",
   "metadata": {},
   "source": [
    "# Order of the map\n",
    "### We did not know that you actually ordered the map for us.... But it works!!"
   ]
  },
  {
   "cell_type": "code",
   "execution_count": 6,
   "metadata": {},
   "outputs": [
    {
     "name": "stdout",
     "output_type": "stream",
     "text": [
      "\u001b[34mData\u001b[m\u001b[m/                                \u001b[31mmain.ipynb\u001b[m\u001b[m*\r\n",
      "Datathon Challenge_ Map With AI.pdf\r\n"
     ]
    }
   ],
   "source": [
    "ls"
   ]
  },
  {
   "cell_type": "code",
   "execution_count": 8,
   "metadata": {},
   "outputs": [
    {
     "name": "stdout",
     "output_type": "stream",
     "text": [
      "64\n"
     ]
    },
    {
     "data": {
      "text/plain": [
       "[3001120103333, 3001120103131, 3001120103130, 3001120103332, 3001120103330]"
      ]
     },
     "execution_count": 8,
     "metadata": {},
     "output_type": "execute_result"
    }
   ],
   "source": [
    "#Map list\n",
    "import glob, os\n",
    "parent_dir = 'Data/ml_preds_csv/'\n",
    "listOfFile=[]\n",
    "for pdf_file in glob.glob(os.path.join(parent_dir, '*.csv')):\n",
    "    a=pdf_file.split('/')[2].split('.')\n",
    "    listOfFile.append(int(a[0]))\n",
    "    \n",
    "print(len(listOfFile))\n",
    "listOfFile[:5]"
   ]
  },
  {
   "cell_type": "code",
   "execution_count": 10,
   "metadata": {},
   "outputs": [
    {
     "data": {
      "text/html": [
       "<div>\n",
       "<style scoped>\n",
       "    .dataframe tbody tr th:only-of-type {\n",
       "        vertical-align: middle;\n",
       "    }\n",
       "\n",
       "    .dataframe tbody tr th {\n",
       "        vertical-align: top;\n",
       "    }\n",
       "\n",
       "    .dataframe thead th {\n",
       "        text-align: right;\n",
       "    }\n",
       "</style>\n",
       "<table border=\"1\" class=\"dataframe\">\n",
       "  <thead>\n",
       "    <tr style=\"text-align: right;\">\n",
       "      <th></th>\n",
       "      <th>pixel_i</th>\n",
       "      <th>pixel_j</th>\n",
       "      <th>val</th>\n",
       "      <th>latitude</th>\n",
       "      <th>longitude</th>\n",
       "    </tr>\n",
       "  </thead>\n",
       "  <tbody>\n",
       "    <tr>\n",
       "      <th>0</th>\n",
       "      <td>0</td>\n",
       "      <td>424</td>\n",
       "      <td>6</td>\n",
       "      <td>-5.965754</td>\n",
       "      <td>35.510087</td>\n",
       "    </tr>\n",
       "    <tr>\n",
       "      <th>1</th>\n",
       "      <td>0</td>\n",
       "      <td>425</td>\n",
       "      <td>7</td>\n",
       "      <td>-5.965754</td>\n",
       "      <td>35.510092</td>\n",
       "    </tr>\n",
       "    <tr>\n",
       "      <th>2</th>\n",
       "      <td>0</td>\n",
       "      <td>426</td>\n",
       "      <td>8</td>\n",
       "      <td>-5.965754</td>\n",
       "      <td>35.510098</td>\n",
       "    </tr>\n",
       "    <tr>\n",
       "      <th>3</th>\n",
       "      <td>0</td>\n",
       "      <td>427</td>\n",
       "      <td>9</td>\n",
       "      <td>-5.965754</td>\n",
       "      <td>35.510103</td>\n",
       "    </tr>\n",
       "    <tr>\n",
       "      <th>4</th>\n",
       "      <td>0</td>\n",
       "      <td>428</td>\n",
       "      <td>8</td>\n",
       "      <td>-5.965754</td>\n",
       "      <td>35.510108</td>\n",
       "    </tr>\n",
       "  </tbody>\n",
       "</table>\n",
       "</div>"
      ],
      "text/plain": [
       "   pixel_i  pixel_j  val  latitude  longitude\n",
       "0        0      424    6 -5.965754  35.510087\n",
       "1        0      425    7 -5.965754  35.510092\n",
       "2        0      426    8 -5.965754  35.510098\n",
       "3        0      427    9 -5.965754  35.510103\n",
       "4        0      428    8 -5.965754  35.510108"
      ]
     },
     "execution_count": 10,
     "metadata": {},
     "output_type": "execute_result"
    }
   ],
   "source": [
    "#Pixel distance\n",
    "map_=3001120103000\n",
    "df_temp=pd.read_csv(\"Data/ml_preds_csv/{}.csv\".format(map_))\n",
    "df_temp.head()"
   ]
  },
  {
   "cell_type": "code",
   "execution_count": 11,
   "metadata": {
    "scrolled": true
   },
   "outputs": [],
   "source": [
    "#Constant\n",
    "j_unit=np.abs(df_temp.iloc[0].longitude-df_temp.iloc[1].longitude)\n",
    "i_unit=np.abs(list(df_temp[df_temp.pixel_i==1].latitude)[0]-df_temp.iloc[0].latitude)"
   ]
  },
  {
   "cell_type": "code",
   "execution_count": 14,
   "metadata": {},
   "outputs": [],
   "source": [
    "#Create a list of file\n",
    "df=pd.DataFrame({})\n",
    "first_pix=[]\n",
    "arrayPoint=[]\n",
    "for map_ in listOfFile:\n",
    "    df=pd.read_csv(\"Data/ml_preds_csv/{}.csv\".format(map_))\n",
    "    a_point=df.iloc[0]\n",
    "    first_point_lat=(a_point.latitude-i_unit*a_point.pixel_i)\n",
    "    first_point_long=(a_point.longitude-j_unit*a_point.pixel_j)\n",
    "    arrayPoint.append((first_point_lat,first_point_long,map_))"
   ]
  },
  {
   "cell_type": "code",
   "execution_count": 15,
   "metadata": {},
   "outputs": [
    {
     "data": {
      "image/png": "[encoded data removed]",
      "text/plain": [
       "<Figure size 432x288 with 1 Axes>"
      ]
     },
     "metadata": {
      "needs_background": "light"
     },
     "output_type": "display_data"
    }
   ],
   "source": [
    "import matplotlib.pyplot as plt\n",
    "x=[ i[0] for i in arrayPoint]\n",
    "y=[ i[1] for i in arrayPoint]\n",
    "map_name=[ i[2] for i in arrayPoint]\n",
    "\n",
    "area = np.pi*5\n",
    "\n",
    "plt.scatter(x, y, s=area, alpha=0.5)\n",
    "plt.title('Scatter plot pythonspot.com')\n",
    "plt.xlabel('x')\n",
    "plt.ylabel('y')\n",
    "plt.show()\n"
   ]
  },
  {
   "cell_type": "code",
   "execution_count": 16,
   "metadata": {},
   "outputs": [],
   "source": [
    "#Put the map to the correct position\n",
    "arrayPoint.sort()\n",
    "list_map=[i[0] for i in arrayPoint]"
   ]
  },
  {
   "cell_type": "code",
   "execution_count": 17,
   "metadata": {},
   "outputs": [],
   "source": [
    "list_=[]\n",
    "\n",
    "for i in [1,2,3,4,5,6,7,8]:\n",
    "    list_.append([j[2] for j in arrayPoint[(i-1)*8:i*8]])\n",
    "\n",
    "df_map=pd.DataFrame({})\n",
    "count=0\n",
    "for i in np.array(list_).T:\n",
    "    k=list(i)\n",
    "    k.reverse()\n",
    "    df_map[\"{}\".format(count)]=k\n",
    "    count+=1"
   ]
  },
  {
   "cell_type": "code",
   "execution_count": 18,
   "metadata": {},
   "outputs": [
    {
     "data": {
      "text/html": [
       "<div>\n",
       "<style scoped>\n",
       "    .dataframe tbody tr th:only-of-type {\n",
       "        vertical-align: middle;\n",
       "    }\n",
       "\n",
       "    .dataframe tbody tr th {\n",
       "        vertical-align: top;\n",
       "    }\n",
       "\n",
       "    .dataframe thead th {\n",
       "        text-align: right;\n",
       "    }\n",
       "</style>\n",
       "<table border=\"1\" class=\"dataframe\">\n",
       "  <thead>\n",
       "    <tr style=\"text-align: right;\">\n",
       "      <th></th>\n",
       "      <th>0</th>\n",
       "      <th>1</th>\n",
       "      <th>2</th>\n",
       "      <th>3</th>\n",
       "      <th>4</th>\n",
       "      <th>5</th>\n",
       "      <th>6</th>\n",
       "      <th>7</th>\n",
       "    </tr>\n",
       "  </thead>\n",
       "  <tbody>\n",
       "    <tr>\n",
       "      <th>0</th>\n",
       "      <td>3001120103000</td>\n",
       "      <td>3001120103001</td>\n",
       "      <td>3001120103010</td>\n",
       "      <td>3001120103011</td>\n",
       "      <td>3001120103100</td>\n",
       "      <td>3001120103101</td>\n",
       "      <td>3001120103110</td>\n",
       "      <td>3001120103111</td>\n",
       "    </tr>\n",
       "    <tr>\n",
       "      <th>1</th>\n",
       "      <td>3001120103002</td>\n",
       "      <td>3001120103003</td>\n",
       "      <td>3001120103012</td>\n",
       "      <td>3001120103013</td>\n",
       "      <td>3001120103102</td>\n",
       "      <td>3001120103103</td>\n",
       "      <td>3001120103112</td>\n",
       "      <td>3001120103113</td>\n",
       "    </tr>\n",
       "    <tr>\n",
       "      <th>2</th>\n",
       "      <td>3001120103020</td>\n",
       "      <td>3001120103021</td>\n",
       "      <td>3001120103030</td>\n",
       "      <td>3001120103031</td>\n",
       "      <td>3001120103120</td>\n",
       "      <td>3001120103121</td>\n",
       "      <td>3001120103130</td>\n",
       "      <td>3001120103131</td>\n",
       "    </tr>\n",
       "    <tr>\n",
       "      <th>3</th>\n",
       "      <td>3001120103022</td>\n",
       "      <td>3001120103023</td>\n",
       "      <td>3001120103032</td>\n",
       "      <td>3001120103033</td>\n",
       "      <td>3001120103122</td>\n",
       "      <td>3001120103123</td>\n",
       "      <td>3001120103132</td>\n",
       "      <td>3001120103133</td>\n",
       "    </tr>\n",
       "    <tr>\n",
       "      <th>4</th>\n",
       "      <td>3001120103200</td>\n",
       "      <td>3001120103201</td>\n",
       "      <td>3001120103210</td>\n",
       "      <td>3001120103211</td>\n",
       "      <td>3001120103300</td>\n",
       "      <td>3001120103301</td>\n",
       "      <td>3001120103310</td>\n",
       "      <td>3001120103311</td>\n",
       "    </tr>\n",
       "    <tr>\n",
       "      <th>5</th>\n",
       "      <td>3001120103202</td>\n",
       "      <td>3001120103203</td>\n",
       "      <td>3001120103212</td>\n",
       "      <td>3001120103213</td>\n",
       "      <td>3001120103302</td>\n",
       "      <td>3001120103303</td>\n",
       "      <td>3001120103312</td>\n",
       "      <td>3001120103313</td>\n",
       "    </tr>\n",
       "    <tr>\n",
       "      <th>6</th>\n",
       "      <td>3001120103220</td>\n",
       "      <td>3001120103221</td>\n",
       "      <td>3001120103230</td>\n",
       "      <td>3001120103231</td>\n",
       "      <td>3001120103320</td>\n",
       "      <td>3001120103321</td>\n",
       "      <td>3001120103330</td>\n",
       "      <td>3001120103331</td>\n",
       "    </tr>\n",
       "    <tr>\n",
       "      <th>7</th>\n",
       "      <td>3001120103222</td>\n",
       "      <td>3001120103223</td>\n",
       "      <td>3001120103232</td>\n",
       "      <td>3001120103233</td>\n",
       "      <td>3001120103322</td>\n",
       "      <td>3001120103323</td>\n",
       "      <td>3001120103332</td>\n",
       "      <td>3001120103333</td>\n",
       "    </tr>\n",
       "  </tbody>\n",
       "</table>\n",
       "</div>"
      ],
      "text/plain": [
       "               0              1              2              3              4  \\\n",
       "0  3001120103000  3001120103001  3001120103010  3001120103011  3001120103100   \n",
       "1  3001120103002  3001120103003  3001120103012  3001120103013  3001120103102   \n",
       "2  3001120103020  3001120103021  3001120103030  3001120103031  3001120103120   \n",
       "3  3001120103022  3001120103023  3001120103032  3001120103033  3001120103122   \n",
       "4  3001120103200  3001120103201  3001120103210  3001120103211  3001120103300   \n",
       "5  3001120103202  3001120103203  3001120103212  3001120103213  3001120103302   \n",
       "6  3001120103220  3001120103221  3001120103230  3001120103231  3001120103320   \n",
       "7  3001120103222  3001120103223  3001120103232  3001120103233  3001120103322   \n",
       "\n",
       "               5              6              7  \n",
       "0  3001120103101  3001120103110  3001120103111  \n",
       "1  3001120103103  3001120103112  3001120103113  \n",
       "2  3001120103121  3001120103130  3001120103131  \n",
       "3  3001120103123  3001120103132  3001120103133  \n",
       "4  3001120103301  3001120103310  3001120103311  \n",
       "5  3001120103303  3001120103312  3001120103313  \n",
       "6  3001120103321  3001120103330  3001120103331  \n",
       "7  3001120103323  3001120103332  3001120103333  "
      ]
     },
     "execution_count": 18,
     "metadata": {},
     "output_type": "execute_result"
    }
   ],
   "source": [
    "df_map"
   ]
  },
  {
   "cell_type": "code",
   "execution_count": 21,
   "metadata": {},
   "outputs": [
    {
     "name": "stdout",
     "output_type": "stream",
     "text": [
      "rm: Data/df_map.csv: No such file or directory\r\n"
     ]
    }
   ],
   "source": [
    "!rm Data/df_map.csv\n",
    "df_map.to_csv(\"df_map.csv\")"
   ]
  },
  {
   "cell_type": "markdown",
   "metadata": {},
   "source": [
    "# Find the shortest distance"
   ]
  },
  {
   "cell_type": "code",
   "execution_count": 23,
   "metadata": {},
   "outputs": [
    {
     "name": "stdout",
     "output_type": "stream",
     "text": [
      "101563\n"
     ]
    }
   ],
   "source": [
    "#Import population\n",
    "pop_dens=pd.read_csv(\"Data/tz_popdens_sample.csv\")\n",
    "print(len(pop_dens))"
   ]
  },
  {
   "cell_type": "code",
   "execution_count": 24,
   "metadata": {},
   "outputs": [],
   "source": [
    "# This function returns the matrix of population density that is in each tile.\n",
    "def pop_dens_map(maps):\n",
    "    df_map=pd.read_csv(\"Data/ml_preds_csv/{}.csv\".format(maps))\n",
    "    row_=df_map.iloc[0]\n",
    "    \n",
    "    x_0=row_.latitude-i_unit*row_.pixel_i\n",
    "    x_n=x_0+8192*i_unit\n",
    "    y_0=row_.longitude-j_unit*row_.pixel_j\n",
    "    y_n=y_0+8192*j_unit\n",
    "\n",
    "    fool = pop_dens[(pop_dens['latitude']>x_0)&(pop_dens['latitude']<x_n)&(pop_dens['longitude']>y_0)&(pop_dens['longitude']<y_n)]\n",
    "    return fool "
   ]
  },
  {
   "cell_type": "code",
   "execution_count": 25,
   "metadata": {},
   "outputs": [
    {
     "data": {
      "text/plain": [
       "3001120103003"
      ]
     },
     "execution_count": 25,
     "metadata": {},
     "output_type": "execute_result"
    }
   ],
   "source": [
    "df_map.iloc[1,1]"
   ]
  },
  {
   "cell_type": "code",
   "execution_count": 26,
   "metadata": {},
   "outputs": [],
   "source": [
    "def clean_map(maps):\n",
    "    df_map=pd.read_csv(\"Data/ml_preds_csv/{}.csv\".format(maps))\n",
    "    return df_map[df_map['val']>75]"
   ]
  },
  {
   "cell_type": "code",
   "execution_count": 32,
   "metadata": {},
   "outputs": [],
   "source": [
    "def l2_norm(p1,p2):\n",
    "    distsq=(p1[0]-p2[0])**2+(p1[1]-p2[1])**2\n",
    "    return distsq"
   ]
  },
  {
   "cell_type": "code",
   "execution_count": 33,
   "metadata": {
    "scrolled": false
   },
   "outputs": [
    {
     "data": {
      "text/html": [
       "<div>\n",
       "<style scoped>\n",
       "    .dataframe tbody tr th:only-of-type {\n",
       "        vertical-align: middle;\n",
       "    }\n",
       "\n",
       "    .dataframe tbody tr th {\n",
       "        vertical-align: top;\n",
       "    }\n",
       "\n",
       "    .dataframe thead th {\n",
       "        text-align: right;\n",
       "    }\n",
       "</style>\n",
       "<table border=\"1\" class=\"dataframe\">\n",
       "  <thead>\n",
       "    <tr style=\"text-align: right;\">\n",
       "      <th></th>\n",
       "      <th>0</th>\n",
       "      <th>1</th>\n",
       "      <th>2</th>\n",
       "      <th>3</th>\n",
       "      <th>4</th>\n",
       "      <th>5</th>\n",
       "      <th>6</th>\n",
       "      <th>7</th>\n",
       "    </tr>\n",
       "  </thead>\n",
       "  <tbody>\n",
       "    <tr>\n",
       "      <th>0</th>\n",
       "      <td>3001120103000</td>\n",
       "      <td>3001120103001</td>\n",
       "      <td>3001120103010</td>\n",
       "      <td>3001120103011</td>\n",
       "      <td>3001120103100</td>\n",
       "      <td>3001120103101</td>\n",
       "      <td>3001120103110</td>\n",
       "      <td>3001120103111</td>\n",
       "    </tr>\n",
       "    <tr>\n",
       "      <th>1</th>\n",
       "      <td>3001120103002</td>\n",
       "      <td>3001120103003</td>\n",
       "      <td>3001120103012</td>\n",
       "      <td>3001120103013</td>\n",
       "      <td>3001120103102</td>\n",
       "      <td>3001120103103</td>\n",
       "      <td>3001120103112</td>\n",
       "      <td>3001120103113</td>\n",
       "    </tr>\n",
       "    <tr>\n",
       "      <th>2</th>\n",
       "      <td>3001120103020</td>\n",
       "      <td>3001120103021</td>\n",
       "      <td>3001120103030</td>\n",
       "      <td>3001120103031</td>\n",
       "      <td>3001120103120</td>\n",
       "      <td>3001120103121</td>\n",
       "      <td>3001120103130</td>\n",
       "      <td>3001120103131</td>\n",
       "    </tr>\n",
       "    <tr>\n",
       "      <th>3</th>\n",
       "      <td>3001120103022</td>\n",
       "      <td>3001120103023</td>\n",
       "      <td>3001120103032</td>\n",
       "      <td>3001120103033</td>\n",
       "      <td>3001120103122</td>\n",
       "      <td>3001120103123</td>\n",
       "      <td>3001120103132</td>\n",
       "      <td>3001120103133</td>\n",
       "    </tr>\n",
       "    <tr>\n",
       "      <th>4</th>\n",
       "      <td>3001120103200</td>\n",
       "      <td>3001120103201</td>\n",
       "      <td>3001120103210</td>\n",
       "      <td>3001120103211</td>\n",
       "      <td>3001120103300</td>\n",
       "      <td>3001120103301</td>\n",
       "      <td>3001120103310</td>\n",
       "      <td>3001120103311</td>\n",
       "    </tr>\n",
       "  </tbody>\n",
       "</table>\n",
       "</div>"
      ],
      "text/plain": [
       "               0              1              2              3              4  \\\n",
       "0  3001120103000  3001120103001  3001120103010  3001120103011  3001120103100   \n",
       "1  3001120103002  3001120103003  3001120103012  3001120103013  3001120103102   \n",
       "2  3001120103020  3001120103021  3001120103030  3001120103031  3001120103120   \n",
       "3  3001120103022  3001120103023  3001120103032  3001120103033  3001120103122   \n",
       "4  3001120103200  3001120103201  3001120103210  3001120103211  3001120103300   \n",
       "\n",
       "               5              6              7  \n",
       "0  3001120103101  3001120103110  3001120103111  \n",
       "1  3001120103103  3001120103112  3001120103113  \n",
       "2  3001120103121  3001120103130  3001120103131  \n",
       "3  3001120103123  3001120103132  3001120103133  \n",
       "4  3001120103301  3001120103310  3001120103311  "
      ]
     },
     "execution_count": 33,
     "metadata": {},
     "output_type": "execute_result"
    }
   ],
   "source": [
    "df_map.head()"
   ]
  },
  {
   "cell_type": "code",
   "execution_count": 34,
   "metadata": {},
   "outputs": [
    {
     "data": {
      "text/plain": [
       "[3001120103333, 3001120103131, 3001120103130, 3001120103332, 3001120103330]"
      ]
     },
     "execution_count": 34,
     "metadata": {},
     "output_type": "execute_result"
    }
   ],
   "source": [
    "listOfFile[:5]"
   ]
  },
  {
   "cell_type": "markdown",
   "metadata": {},
   "source": [
    "### Some testing"
   ]
  },
  {
   "cell_type": "code",
   "execution_count": 35,
   "metadata": {},
   "outputs": [],
   "source": [
    "num_pop=[]\n",
    "for i in listOfFile:\n",
    "    num_pop.append(len(pop_dens_map(i)))"
   ]
  },
  {
   "cell_type": "code",
   "execution_count": 36,
   "metadata": {
    "scrolled": true
   },
   "outputs": [
    {
     "data": {
      "text/plain": [
       "93977"
      ]
     },
     "execution_count": 36,
     "metadata": {},
     "output_type": "execute_result"
    }
   ],
   "source": [
    "np.array(num_pop).sum()"
   ]
  },
  {
   "cell_type": "code",
   "execution_count": 37,
   "metadata": {},
   "outputs": [
    {
     "data": {
      "text/plain": [
       "101563"
      ]
     },
     "execution_count": 37,
     "metadata": {},
     "output_type": "execute_result"
    }
   ],
   "source": [
    "len(pop_dens)"
   ]
  },
  {
   "cell_type": "code",
   "execution_count": 38,
   "metadata": {},
   "outputs": [],
   "source": [
    "# For each image id, open the pandas matrix.\n",
    "# df_map gives you the id.\n",
    "maps=3001120103000\n",
    "df_maps=pd.read_csv(\"Data/ml_preds_csv/{}.csv\".format(maps))"
   ]
  },
  {
   "cell_type": "code",
   "execution_count": 39,
   "metadata": {},
   "outputs": [
    {
     "data": {
      "text/plain": [
       "0"
      ]
     },
     "execution_count": 39,
     "metadata": {},
     "output_type": "execute_result"
    }
   ],
   "source": [
    "len(pop_dens_map(3001120103000))"
   ]
  },
  {
   "cell_type": "code",
   "execution_count": 40,
   "metadata": {},
   "outputs": [
    {
     "name": "stdout",
     "output_type": "stream",
     "text": [
      "-6.009453902907334 -5.965753671065527 35.5078125 35.55175244808197\n"
     ]
    }
   ],
   "source": [
    "print(df_maps.latitude.min(),df_maps.latitude.max(),df_maps.longitude.min(),df_maps.longitude.max())"
   ]
  },
  {
   "cell_type": "code",
   "execution_count": 41,
   "metadata": {},
   "outputs": [
    {
     "name": "stdout",
     "output_type": "stream",
     "text": [
      "-6.31506018824 -5.9658935187800015 35.50796484532001 35.85935373702\n"
     ]
    }
   ],
   "source": [
    "print(pop_dens.latitude.min(),pop_dens.latitude.max(),pop_dens.longitude.min(),pop_dens.longitude.max())"
   ]
  },
  {
   "cell_type": "markdown",
   "metadata": {},
   "source": [
    "So there are some sample that is not in our maps set. Especially, one of the map (3001120103000) has no population."
   ]
  },
  {
   "cell_type": "markdown",
   "metadata": {},
   "source": [
    "## Work"
   ]
  },
  {
   "cell_type": "code",
   "execution_count": 46,
   "metadata": {},
   "outputs": [],
   "source": [
    "#Define the 8*8192 by 8*8192 boolean array for a big map\n",
    "full_image = np.zeros((8192*8,8*8192),dtype=np.uint8)\n",
    "for i in range(len(df_map)):\n",
    "    for j in range(len(df_map)):\n",
    "        maps = df_map.iloc[i,j]\n",
    "        df_maps=pd.read_csv(\"Data/ml_preds_csv/{}.csv\".format(maps))\n",
    "        indx = df_maps.index[df_maps['val'] > 75]\n",
    "        sss = df_maps[['pixel_i','pixel_j']]\n",
    "        A = np.zeros((8192,8192),dtype=np.uint8)\n",
    "        pixels = sss.iloc[indx].to_numpy()\n",
    "        for k in range(len(pixels)):\n",
    "            A[pixels[k,0],pixels[k,1]] = int(1)\n",
    "        full_image[i*8192:(i+1)*8192,j*8192:(j+1)*8192] = int(1) - A"
   ]
  },
  {
   "cell_type": "code",
   "execution_count": 47,
   "metadata": {},
   "outputs": [
    {
     "data": {
      "text/plain": [
       "array([[1, 1, 1, ..., 1, 1, 1],\n",
       "       [1, 1, 1, ..., 1, 1, 1],\n",
       "       [1, 1, 1, ..., 1, 1, 1],\n",
       "       ...,\n",
       "       [1, 1, 1, ..., 1, 1, 1],\n",
       "       [1, 1, 1, ..., 1, 1, 1],\n",
       "       [1, 1, 1, ..., 1, 1, 1]], dtype=uint8)"
      ]
     },
     "execution_count": 47,
     "metadata": {},
     "output_type": "execute_result"
    }
   ],
   "source": [
    "full_image[1000:12215]"
   ]
  },
  {
   "cell_type": "code",
   "execution_count": 48,
   "metadata": {},
   "outputs": [
    {
     "name": "stdout",
     "output_type": "stream",
     "text": [
      "4294.967296\n"
     ]
    }
   ],
   "source": [
    "print(full_image.nbytes/1000000)"
   ]
  },
  {
   "cell_type": "code",
   "execution_count": 49,
   "metadata": {},
   "outputs": [],
   "source": [
    "class Node():\n",
    "    \"\"\"A node class for A* Pathfinding\"\"\"\n",
    "\n",
    "    def __init__(self, parent=None, position=None):\n",
    "        self.parent = parent\n",
    "        self.position = position\n",
    "\n",
    "        self.g = 0\n",
    "        self.h = 0\n",
    "        self.f = 0\n",
    "\n",
    "    def __eq__(self, other):\n",
    "        return self.position == other.position\n",
    "\n",
    "\n",
    "def astar(maze, start, end):\n",
    "    \"\"\"Returns a list of tuples as a path from the given start to the given end in the given maze\"\"\"\n",
    "\n",
    "    # Create start and end node\n",
    "    start_node = Node(None, start)\n",
    "    start_node.g = start_node.h = start_node.f = 0\n",
    "    end_node = Node(None, end)\n",
    "    end_node.g = end_node.h = end_node.f = 0\n",
    "\n",
    "    # Initialize both open and closed list\n",
    "    open_list = []\n",
    "    closed_list = []\n",
    "\n",
    "    # Add the start node\n",
    "    open_list.append(start_node)\n",
    "\n",
    "    # Loop until you find the end\n",
    "    while len(open_list) > 0:\n",
    "\n",
    "        # Get the current node\n",
    "        current_node = open_list[0]\n",
    "        current_index = 0\n",
    "        for index, item in enumerate(open_list):\n",
    "            if item.f < current_node.f:\n",
    "                current_node = item\n",
    "                current_index = index\n",
    "\n",
    "        # Pop current off open list, add to closed list\n",
    "        open_list.pop(current_index)\n",
    "        closed_list.append(current_node)\n",
    "\n",
    "        # Found the goal\n",
    "        if current_node == end_node:\n",
    "            path = []\n",
    "            current = current_node\n",
    "            while current is not None:\n",
    "                path.append(current.position)\n",
    "                current = current.parent\n",
    "            return path[::-1] # Return reversed path\n",
    "\n",
    "        # Generate children\n",
    "        children = []\n",
    "        for new_position in [(0, -1), (0, 1), (-1, 0), (1, 0), (-1, -1), (-1, 1), (1, -1), (1, 1)]: # Adjacent squares\n",
    "\n",
    "            # Get node position\n",
    "            node_position = (current_node.position[0] + new_position[0], current_node.position[1] + new_position[1])\n",
    "\n",
    "            # Make sure within range\n",
    "            if node_position[0] > (len(maze) - 1) or node_position[0] < 0 or node_position[1] > (len(maze[len(maze)-1]) -1) or node_position[1] < 0:\n",
    "                continue\n",
    "\n",
    "            # Make sure walkable terrain\n",
    "            if maze[node_position[0]][node_position[1]] != 0:\n",
    "                continue\n",
    "\n",
    "            # Create new node\n",
    "            new_node = Node(current_node, node_position)\n",
    "\n",
    "            # Append\n",
    "            children.append(new_node)\n",
    "\n",
    "        # Loop through children\n",
    "        for child in children:\n",
    "\n",
    "            # Child is on the closed list\n",
    "            for closed_child in closed_list:\n",
    "                if child == closed_child:\n",
    "                    continue\n",
    "\n",
    "            # Create the f, g, and h values\n",
    "            child.g = current_node.g + 1\n",
    "            child.h = ((child.position[0] - end_node.position[0]) ** 2) + ((child.position[1] - end_node.position[1]) ** 2)\n",
    "            child.f = child.g + child.h\n",
    "\n",
    "            # Child is already in the open list\n",
    "            for open_node in open_list:\n",
    "                if child == open_node and child.g > open_node.g:\n",
    "                    continue\n",
    "\n",
    "            # Add the child to the open list\n",
    "            open_list.append(child)"
   ]
  },
  {
   "cell_type": "code",
   "execution_count": 50,
   "metadata": {},
   "outputs": [
    {
     "name": "stdout",
     "output_type": "stream",
     "text": [
      "Empty DataFrame\n",
      "Columns: [latitude_src, longitude_src, latitude_dst, longitude_dst]\n",
      "Index: []\n"
     ]
    },
    {
     "data": {
      "text/plain": [
       "18107.72301148285"
      ]
     },
     "execution_count": 50,
     "metadata": {},
     "output_type": "execute_result"
    }
   ],
   "source": [
    "# Compute distance for each pair of points. \n",
    "routing_pairs=pd.read_csv(\"Data/routing_challenge_pairs.csv\")\n",
    "print(routing_pairs.head(0))\n",
    "routing_pairs = routing_pairs.to_numpy()\n",
    "top_most = 35.50781250000051\n",
    "left_most = -6.271618064314865\n",
    "(routing_pairs[0,0] - left_most)/j_unit"
   ]
  },
  {
   "cell_type": "code",
   "execution_count": 52,
   "metadata": {},
   "outputs": [
    {
     "data": {
      "text/plain": [
       "array([[-6.17448067, 35.75299323, -6.26538966, 35.73208272],\n",
       "       [-5.99512902, 35.80006599, -6.13030311, 35.69733202],\n",
       "       [-6.1996798 , 35.67715645, -6.1620378 , 35.71311414],\n",
       "       ...,\n",
       "       [-6.19572273, 35.72348356, -6.20351955, 35.76038003],\n",
       "       [-6.15498702, 35.81344485, -6.12816423, 35.72463691],\n",
       "       [-6.11070118, 35.65276444, -6.0642833 , 35.62570095]])"
      ]
     },
     "execution_count": 52,
     "metadata": {},
     "output_type": "execute_result"
    }
   ],
   "source": [
    "routing_pairs"
   ]
  },
  {
   "cell_type": "code",
   "execution_count": 55,
   "metadata": {},
   "outputs": [],
   "source": [
    "def main(start, end):\n",
    "    \n",
    "    maze = full_image #[[0, 1, 0, 0, 1, 0, 0, 0, 0, 0],\n",
    "            #[0, 1, 0, 0, 1, 0, 0, 0, 0, 0],\n",
    "            #[0, 0, 0, 0, 1, 0, 0, 0, 1, 0],\n",
    "            #[0, 0, 1, 0, 1, 0, 0, 0, 0, 0],\n",
    "            #[0, 0, 0, 0, 1, 0, 0, 0, 0, 0],\n",
    "            #[0, 1, 0, 0, 1, 0, 0, 0, 0, 0],\n",
    "            #[0, 0, 0, 0, 1, 0, 0, 0, 0, 0],\n",
    "            #[0, 0, 0, 0, 1, 0, 0, 0, 0, 0],\n",
    "            #[0, 0, 0, 0, 1, 0, 0, 0, 0, 0],\n",
    "            #[0, 0, 0, 0, 0, 0, 0, 0, 0, 0]]\n",
    "\n",
    "    path = astar(maze, start, end)\n",
    "    print(path)\n",
    "    return(path)"
   ]
  },
  {
   "cell_type": "code",
   "execution_count": 56,
   "metadata": {},
   "outputs": [
    {
     "data": {
      "text/plain": [
       "array([-6.17448067, 35.75299323, -6.26538966, 35.73208272])"
      ]
     },
     "execution_count": 56,
     "metadata": {},
     "output_type": "execute_result"
    }
   ],
   "source": [
    "routing_pairs[0]"
   ]
  },
  {
   "cell_type": "code",
   "execution_count": 265,
   "metadata": {},
   "outputs": [
    {
     "data": {
      "text/plain": [
       "5.8324786822154745e-05"
      ]
     },
     "execution_count": 265,
     "metadata": {},
     "output_type": "execute_result"
    }
   ],
   "source": [
    "path = np.array(path)\n",
    "count_diag = 0\n",
    "count_horiz = 0\n",
    "count_vert = 0\n",
    "\n",
    "for i in range(len(path)-1):\n",
    "    if (    np.abs(path[i+1] - path[i]).sum() == 2):\n",
    "        count_diag += 1\n",
    "    elif( np.abs(path[i+1,1] - path[i,1]) == 1):\n",
    "        count_horiz += 1\n",
    "    else: \n",
    "        count_vert += 1\n",
    "\n",
    "dist = count_horiz * i_unit + count_vert * j_unit + count_diag * (np.sqrt(i_unit**2+j_unit**2))\n",
    "dist"
   ]
  },
  {
   "cell_type": "code",
   "execution_count": 268,
   "metadata": {},
   "outputs": [
    {
     "data": {
      "text/plain": [
       "5.3644180155743015e-06"
      ]
     },
     "execution_count": 268,
     "metadata": {},
     "output_type": "execute_result"
    }
   ],
   "source": [
    "j_unit"
   ]
  },
  {
   "cell_type": "code",
   "execution_count": 54,
   "metadata": {},
   "outputs": [
    {
     "data": {
      "text/html": [
       "<div>\n",
       "<style scoped>\n",
       "    .dataframe tbody tr th:only-of-type {\n",
       "        vertical-align: middle;\n",
       "    }\n",
       "\n",
       "    .dataframe tbody tr th {\n",
       "        vertical-align: top;\n",
       "    }\n",
       "\n",
       "    .dataframe thead th {\n",
       "        text-align: right;\n",
       "    }\n",
       "</style>\n",
       "<table border=\"1\" class=\"dataframe\">\n",
       "  <thead>\n",
       "    <tr style=\"text-align: right;\">\n",
       "      <th></th>\n",
       "      <th>pixel_i</th>\n",
       "      <th>pixel_j</th>\n",
       "      <th>val</th>\n",
       "      <th>latitude</th>\n",
       "      <th>longitude</th>\n",
       "    </tr>\n",
       "  </thead>\n",
       "  <tbody>\n",
       "    <tr>\n",
       "      <th>0</th>\n",
       "      <td>0</td>\n",
       "      <td>241</td>\n",
       "      <td>7</td>\n",
       "      <td>-6.271618</td>\n",
       "      <td>35.816723</td>\n",
       "    </tr>\n",
       "    <tr>\n",
       "      <th>1</th>\n",
       "      <td>0</td>\n",
       "      <td>242</td>\n",
       "      <td>21</td>\n",
       "      <td>-6.271618</td>\n",
       "      <td>35.816728</td>\n",
       "    </tr>\n",
       "    <tr>\n",
       "      <th>2</th>\n",
       "      <td>0</td>\n",
       "      <td>243</td>\n",
       "      <td>36</td>\n",
       "      <td>-6.271618</td>\n",
       "      <td>35.816733</td>\n",
       "    </tr>\n",
       "    <tr>\n",
       "      <th>3</th>\n",
       "      <td>0</td>\n",
       "      <td>244</td>\n",
       "      <td>42</td>\n",
       "      <td>-6.271618</td>\n",
       "      <td>35.816739</td>\n",
       "    </tr>\n",
       "    <tr>\n",
       "      <th>4</th>\n",
       "      <td>0</td>\n",
       "      <td>245</td>\n",
       "      <td>43</td>\n",
       "      <td>-6.271618</td>\n",
       "      <td>35.816744</td>\n",
       "    </tr>\n",
       "  </tbody>\n",
       "</table>\n",
       "</div>"
      ],
      "text/plain": [
       "   pixel_i  pixel_j  val  latitude  longitude\n",
       "0        0      241    7 -6.271618  35.816723\n",
       "1        0      242   21 -6.271618  35.816728\n",
       "2        0      243   36 -6.271618  35.816733\n",
       "3        0      244   42 -6.271618  35.816739\n",
       "4        0      245   43 -6.271618  35.816744"
      ]
     },
     "execution_count": 54,
     "metadata": {},
     "output_type": "execute_result"
    }
   ],
   "source": [
    "df_maps.head()"
   ]
  },
  {
   "cell_type": "code",
   "execution_count": 237,
   "metadata": {
    "scrolled": true
   },
   "outputs": [
    {
     "data": {
      "image/png": "[encoded data removed]",
      "text/plain": [
       "<Figure size 720x720 with 2 Axes>"
      ]
     },
     "metadata": {
      "needs_background": "dark"
     },
     "output_type": "display_data"
    }
   ],
   "source": [
    "import numpy as np\n",
    "import matplotlib.pyplot as plt\n",
    "plt.figure(figsize=(10,10))\n",
    "plt.imshow(full_image[0:10,4400:4500],cmap='Greys',  interpolation='nearest')\n",
    "plt.colorbar()\n",
    "plt.show()"
   ]
  },
  {
   "cell_type": "code",
   "execution_count": 59,
   "metadata": {},
   "outputs": [],
   "source": [
    "a=clean_map(3001120103121).sample(2)"
   ]
  },
  {
   "cell_type": "markdown",
   "metadata": {},
   "source": [
    "### Population that close to a road for each map"
   ]
  },
  {
   "cell_type": "code",
   "execution_count": 132,
   "metadata": {},
   "outputs": [],
   "source": [
    "newpop=pop_dens_map(3001120103121).reset_index()\n",
    "newmap1=clean_map(3001120103121).reset_index()\n",
    "a=newpop[['latitude','longitude']]\n",
    "b=newmap1[['latitude','longitude']]"
   ]
  },
  {
   "cell_type": "code",
   "execution_count": 133,
   "metadata": {},
   "outputs": [],
   "source": [
    "for i in range(len(newpop)):\n",
    "    aa=a.iloc[i].values\n",
    "    listDumb=[]\n",
    "    \n",
    "    array_truth=[]\n",
    "    \n",
    "    k=((aa-np.array(b.values))**2)\n",
    "    count=((k.reshape(2,-1)[0]+k.reshape(2,-1)[1])<radius**2).sum()    \n",
    "    if count>0:\n",
    "        v=1\n",
    "    else:\n",
    "        v=0\n",
    "    listDumb.append(v)"
   ]
  },
  {
   "cell_type": "code",
   "execution_count": 134,
   "metadata": {},
   "outputs": [
    {
     "data": {
      "text/plain": [
       "[0]"
      ]
     },
     "execution_count": 134,
     "metadata": {},
     "output_type": "execute_result"
    }
   ],
   "source": [
    "listDumb"
   ]
  },
  {
   "cell_type": "code",
   "execution_count": 136,
   "metadata": {},
   "outputs": [],
   "source": [
    "def pop_dens_map2(maps):\n",
    "    df_map=pd.read_csv(\"Data/ml_preds_csv/{}.csv\".format(maps))\n",
    "    x_n=df_map['latitude'].max()\n",
    "    x_0=df_map['latitude'].min()\n",
    "    y_n=df_map['longitude'].max()\n",
    "    y_0=df_map['longitude'].min()\n",
    "    fool=pop_dens[(pop_dens['latitude']>x_0)&(pop_dens['latitude']<x_n)&(pop_dens['longitude']>y_0)&(pop_dens['longitude']<y_n)]\n",
    "    return fool"
   ]
  },
  {
   "cell_type": "code",
   "execution_count": 138,
   "metadata": {},
   "outputs": [
    {
     "data": {
      "text/plain": [
       "1002"
      ]
     },
     "execution_count": 138,
     "metadata": {},
     "output_type": "execute_result"
    }
   ],
   "source": [
    "len(pop_dens_map2(3001120103000))"
   ]
  },
  {
   "cell_type": "code",
   "execution_count": null,
   "metadata": {},
   "outputs": [],
   "source": []
  }
 ],
 "metadata": {
  "kernelspec": {
   "display_name": "Python 3",
   "language": "python",
   "name": "python3"
  },
  "language_info": {
   "codemirror_mode": {
    "name": "ipython",
    "version": 3
   },
   "file_extension": ".py",
   "mimetype": "text/x-python",
   "name": "python",
   "nbconvert_exporter": "python",
   "pygments_lexer": "ipython3",
   "version": "3.7.3"
  }
 },
 "nbformat": 4,
 "nbformat_minor": 2
}
